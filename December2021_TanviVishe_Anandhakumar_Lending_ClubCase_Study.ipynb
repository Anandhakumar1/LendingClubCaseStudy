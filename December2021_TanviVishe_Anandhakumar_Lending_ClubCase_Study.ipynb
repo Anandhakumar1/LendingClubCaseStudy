{
 "cells": [
  {
   "cell_type": "markdown",
   "id": "after-constraint",
   "metadata": {},
   "source": [
    "# Lending Club Case Study   by Anandhakumar Dharmalingam"
   ]
  },
  {
   "cell_type": "markdown",
   "id": "reliable-parts",
   "metadata": {},
   "source": [
    "### Problem Statement:\n",
    "\n",
    "Using the concepts of EDA to decipher which types of customers default on a loan\n",
    "\n",
    "•\tNeed to understand how consumer attributes and loan attributes influence the tendency of default.\n",
    "\n"
   ]
  },
  {
   "cell_type": "markdown",
   "id": "cellular-mining",
   "metadata": {},
   "source": [
    "#### Meta Data Description:\n",
    "\n",
    "This loan.csv data set is all about the loan approval process and the borrowers repayment follow up is observed.\n"
   ]
  },
  {
   "cell_type": "markdown",
   "id": "adjusted-springfield",
   "metadata": {},
   "source": [
    "#### Finding the consumer attributes & loan attributes in the LOAN data set:\n",
    "consumer attributes :\n",
    "\n",
    "id, member id, grade, sub_grade, emp_title, emp_length, home_ownership,  annul_inc, desc, purpose, title, zip_code, addr_state, \n",
    "loan attributes \n",
    "loan_amnt, funded_amnt, funded_amnt_inv, term, int_rate, verification_status, Issue_d, loan_status, pym, dti, delinq_2ys, earliest_cr_line, inq_last_6mths, mths_since_last_delinq, mths_since_last_record, open_acc, pub_rec, revol_bal, revol_util, total_acc, out_prncp, out_prncp_inv, total_pymnt, total_pymnt_inv, total_rec_prncp, total_rec_int, total_rec_late_fee, recoveries, collection_recovery_fee, last_pymnt_d, last_pymnt_amnt, next_pymnt_d, last_credit_pull_d\n",
    "Classifying the required variable of Loan Dataset for our analysis:\n",
    "1.\tCategorical Variable:\n",
    "\n",
    "i)\tOrdered\n",
    "\n",
    "Term, int_rate, grade, sub_grade, emp_length, verification_status, issue_d, loan_status, delinq_2yrs, earliest_cr_line, inq_last_6mths, mths_since_last_delinq, mths_since_last_record, revol_util, pub_rec, last_pymnt_d, next_pymnt_d, last_credit_pull_d\n",
    "\n",
    "ii)\tUnordered\n",
    "\n",
    "Emp_title, home_ownership, desc, purpose, title, zip_code, addr_state,\n",
    "\n",
    "\n",
    "2.\tQuantitative/Numeric variable: \n",
    "\n",
    "loan_amnt, funded_amnt, funded_amnt_inv, instalment, annual_inc, dti, open_acc, revol_bal, total_acc, out_prncp, out_prncp_inv, total_pymnt, total_pymnt_inv, total_rec_prncp, total_rec_int, total_rec_late_fee, recoveries, collection_recovery_fee, last_pymnt_amnt"
   ]
  },
  {
   "cell_type": "markdown",
   "id": "ordered-developer",
   "metadata": {},
   "source": [
    "## Data Cleaning"
   ]
  },
  {
   "cell_type": "markdown",
   "id": "timely-operations",
   "metadata": {},
   "source": [
    "### Removing the Columns which are all having full of Missing Values"
   ]
  },
  {
   "cell_type": "code",
   "execution_count": null,
   "id": "choice-local",
   "metadata": {},
   "outputs": [],
   "source": [
    "import pandas as pd\n",
    "lds=pd.read_csv(r'F:\\UPGRAD\\loan\\loan\\loan.csv',low_memory=False)\n",
    "lds=lds.dropna(axis=1,how=\"all\")\n",
    "print(\"Columns after removing the missing values\")\n",
    "print(lds.info())"
   ]
  },
  {
   "cell_type": "markdown",
   "id": "hourly-square",
   "metadata": {},
   "source": [
    "#### The columns which are not usefull for finding the defaulter are removed:"
   ]
  },
  {
   "cell_type": "code",
   "execution_count": null,
   "id": "sporting-rapid",
   "metadata": {},
   "outputs": [],
   "source": [
    "NotUsefulColumn = [\"id\", \"member_id\", \"funded_amnt\", \"emp_title\", \"pymnt_plan\", \"url\", \"desc\", \"title\", \"zip_code\", \"delinq_2yrs\", \"mths_since_last_delinq\", \"mths_since_last_record\", \"revol_bal\", \"initial_list_status\", \"out_prncp\", \"out_prncp_inv\", \"total_pymnt\", \"total_pymnt_inv\", \"total_rec_prncp\", \"total_rec_int\", \"total_rec_late_fee\", \"recoveries\", \"collection_recovery_fee\", \"last_pymnt_d\", \"last_pymnt_amnt\", \"next_pymnt_d\", \"last_credit_pull_d\", \"collections_12_mths_ex_med\", \"policy_code\", \"acc_now_delinq\", \"chargeoff_within_12_mths\", \"delinq_amnt\", \"tax_liens\", \"application_type\", \"pub_rec_bankruptcies\", \"addr_state\"]\n",
    "lds.drop(NotUsefulColumn, axis=1, inplace=True)\n",
    "print(\"final remaining columns are\",list(lds.columns))"
   ]
  },
  {
   "cell_type": "markdown",
   "id": "wireless-welding",
   "metadata": {},
   "source": [
    "#### emp_length and revol_util having null and NA rows are removed"
   ]
  },
  {
   "cell_type": "code",
   "execution_count": null,
   "id": "empirical-arlington",
   "metadata": {},
   "outputs": [],
   "source": [
    "lds.dropna(axis=0, subset=[\"emp_length\",\"revol_util\"], inplace=True)"
   ]
  },
  {
   "cell_type": "markdown",
   "id": "objective-intelligence",
   "metadata": {},
   "source": [
    "## Standardise values"
   ]
  },
  {
   "cell_type": "markdown",
   "id": "significant-relief",
   "metadata": {},
   "source": [
    "#### Standardise values by removing the percentage and text feature to numeric type for int_rate, revol_util and term columns"
   ]
  },
  {
   "cell_type": "code",
   "execution_count": null,
   "id": "introductory-ambassador",
   "metadata": {},
   "outputs": [],
   "source": [
    "lds[\"int_rate\"]=pd.to_numeric(lds[\"int_rate\"].apply(lambda p:p.split('%') [0]))\n",
    "lds[\"revol_util\"]=pd.to_numeric(lds[\"revol_util\"].apply(lambda p:p.split('%') [0]))"
   ]
  },
  {
   "cell_type": "code",
   "execution_count": null,
   "id": "abandoned-beach",
   "metadata": {},
   "outputs": [],
   "source": [
    "lds[\"term\"]=pd.to_numeric(lds[\"term\"].apply(lambda p:p.split()[0]))"
   ]
  },
  {
   "cell_type": "markdown",
   "id": "lucky-soccer",
   "metadata": {},
   "source": [
    "##### Removing the value current because of irrelavent to the problem statement and changing the value fully paid to 0 and charged off to 1 of loan_status column"
   ]
  },
  {
   "cell_type": "code",
   "execution_count": null,
   "id": "clear-france",
   "metadata": {},
   "outputs": [],
   "source": [
    "lds=lds[lds[\"loan_status\"].apply(lambda p:False if p==\"Current\" else True)]\n",
    "lds[\"loan_status\"]=lds[\"loan_status\"].apply(lambda p:0 if p==\"Fully Paid\" else 1)"
   ]
  },
  {
   "cell_type": "markdown",
   "id": "caroline-cisco",
   "metadata": {},
   "source": [
    "#####  Standerdising emp_length by changing <1 year as 0 and 10+ as 10"
   ]
  },
  {
   "cell_type": "code",
   "execution_count": null,
   "id": "royal-usage",
   "metadata": {},
   "outputs": [],
   "source": [
    "lds[\"emp_length\"]=pd.to_numeric(lds[\"emp_length\"].apply(lambda p:0 if \"<\" in p else(p.split('+')[0] if \"+\" in p else p.split()[0])))"
   ]
  },
  {
   "cell_type": "markdown",
   "id": "illegal-juvenile",
   "metadata": {},
   "source": [
    "##### remove the row which is have in < 1% counts in purpose"
   ]
  },
  {
   "cell_type": "code",
   "execution_count": null,
   "id": "acting-marijuana",
   "metadata": {},
   "outputs": [],
   "source": [
    "lds_purpose=lds[\"purpose\"].value_counts()*100/lds.shape[0]"
   ]
  },
  {
   "cell_type": "code",
   "execution_count": null,
   "id": "smaller-import",
   "metadata": {},
   "outputs": [],
   "source": [
    "lds_purpose_del=lds_purpose[lds_purpose<1].index.values\n",
    "lds=lds[[False if n in lds_purpose_del else True for n in lds[\"purpose\"]]]"
   ]
  },
  {
   "cell_type": "markdown",
   "id": "imported-amendment",
   "metadata": {},
   "source": [
    "## Removing Outlier which deviate the accuracy by comparing the 75% quantile and Max values "
   ]
  },
  {
   "cell_type": "code",
   "execution_count": null,
   "id": "numerical-geneva",
   "metadata": {},
   "outputs": [],
   "source": [
    "lds[\"annual_inc\"].describe()"
   ]
  },
  {
   "cell_type": "code",
   "execution_count": null,
   "id": "human-mediterranean",
   "metadata": {},
   "outputs": [],
   "source": [
    "annual_inc_99 = lds[\"annual_inc\"].quantile(0.99)\n",
    "lds = lds[lds[\"annual_inc\"] < annual_inc_99]"
   ]
  },
  {
   "cell_type": "code",
   "execution_count": null,
   "id": "greenhouse-officer",
   "metadata": {},
   "outputs": [],
   "source": [
    "lds[\"open_acc\"].describe()"
   ]
  },
  {
   "cell_type": "code",
   "execution_count": null,
   "id": "amended-packaging",
   "metadata": {},
   "outputs": [],
   "source": [
    "open_acc_999 = lds[\"open_acc\"].quantile(0.999)\n",
    "lds = lds[lds[\"open_acc\"] < open_acc_999]"
   ]
  },
  {
   "cell_type": "code",
   "execution_count": null,
   "id": "dietary-tribute",
   "metadata": {},
   "outputs": [],
   "source": [
    "lds[\"total_acc\"].describe()"
   ]
  },
  {
   "cell_type": "code",
   "execution_count": null,
   "id": "strong-margin",
   "metadata": {},
   "outputs": [],
   "source": [
    "total_acc_98 = lds[\"total_acc\"].quantile(0.98)\n",
    "lds = lds[lds[\"total_acc\"] < total_acc_98]"
   ]
  },
  {
   "cell_type": "code",
   "execution_count": null,
   "id": "irish-saint",
   "metadata": {},
   "outputs": [],
   "source": [
    "lds[\"pub_rec\"].describe()"
   ]
  },
  {
   "cell_type": "code",
   "execution_count": null,
   "id": "convertible-jackson",
   "metadata": {},
   "outputs": [],
   "source": [
    "pub_rec_995 = lds[\"pub_rec\"].quantile(0.995)\n",
    "lds = lds[lds[\"pub_rec\"] <= pub_rec_995]"
   ]
  },
  {
   "cell_type": "markdown",
   "id": "assigned-strap",
   "metadata": {},
   "source": [
    "## Now the final data for the analysis after Data Cleaning and standardizing the columns:"
   ]
  },
  {
   "cell_type": "code",
   "execution_count": null,
   "id": "identical-pricing",
   "metadata": {
    "scrolled": true
   },
   "outputs": [],
   "source": [
    "lds"
   ]
  },
  {
   "cell_type": "markdown",
   "id": "distinguished-triangle",
   "metadata": {},
   "source": [
    "## Derived Metrics"
   ]
  },
  {
   "cell_type": "markdown",
   "id": "solved-personal",
   "metadata": {},
   "source": [
    "we derive separate columns like month and year from the issue_d column"
   ]
  },
  {
   "cell_type": "code",
   "execution_count": null,
   "id": "pharmaceutical-correspondence",
   "metadata": {},
   "outputs": [],
   "source": [
    "lds['month'] = pd.to_datetime(lds['issue_d']).dt.month\n",
    "lds['year'] = pd.to_datetime(lds['issue_d']).dt.year\n",
    "lds['year'] = lds['year'].apply(lambda x: abs(x) % 100)\n",
    "lds['year'] = lds['year'].map(str)\n",
    "lds['month'] = lds['month'].map(str)\n",
    "lds['year'] = lds['year'].apply(lambda x: \"0\"+x if len(x)==1 else x )\n",
    "lds['month'] = lds['month'].apply(lambda x: \"0\"+x if len(x)==1 else x )   "
   ]
  },
  {
   "cell_type": "code",
   "execution_count": null,
   "id": "mechanical-chosen",
   "metadata": {
    "scrolled": true
   },
   "outputs": [],
   "source": [
    "lds"
   ]
  },
  {
   "cell_type": "code",
   "execution_count": null,
   "id": "legitimate-wound",
   "metadata": {},
   "outputs": [],
   "source": [
    "lds[\"earliest_cr_line\"] = pd.to_numeric(lds[\"earliest_cr_line\"].apply(lambda x:x.split('-')[1]))"
   ]
  },
  {
   "cell_type": "code",
   "execution_count": null,
   "id": "satisfied-chick",
   "metadata": {},
   "outputs": [],
   "source": [
    "# create bins for loan_amnt range\n",
    "bins = [0, 5000, 10000, 15000, 20000, 25000, 36000]\n",
    "bucket_l = ['0-5000', '5000-10000', '10000-15000', '15000-20000', '20000-25000','25000+']\n",
    "lds['loan_amnt_range'] = pd.cut(lds['loan_amnt'], bins, labels=bucket_l)\n",
    "# create bins for int_rate range\n",
    "bins = [0, 7.5, 10, 12.5, 15, 100]\n",
    "bucket_l = ['0-7.5', '7.5-10', '10-12.5', '12.5-15', '15+']\n",
    "lds['int_rate_range'] = pd.cut(lds['int_rate'], bins, labels=bucket_l)\n",
    "# create bins for annual_inc range\n",
    "bins = [0, 25000, 50000, 75000, 100000, 1000000]\n",
    "bucket_l = ['0-25000', '25000-50000', '50000-75000', '75000-100000', '100000+']\n",
    "lds['annual_inc_range'] = pd.cut(lds['annual_inc'], bins, labels=bucket_l)\n",
    "# create bins for installment range\n",
    "def installment(n):\n",
    "    if n <= 200:\n",
    "        return 'low'\n",
    "    elif n > 200 and n <=500:\n",
    "        return 'medium'\n",
    "    elif n > 500 and n <=800:\n",
    "        return 'high'\n",
    "    else:\n",
    "        return 'very high'\n",
    "\n",
    "lds['installment'] = lds['installment'].apply(lambda x: installment(x))\n",
    "# create bins for dti range\n",
    "bins = [-1, 5.00, 10.00, 15.00, 20.00, 25.00, 50.00]\n",
    "bucket_l = ['0-5%', '5-10%', '10-15%', '15-20%', '20-25%', '25%+']\n",
    "lds['dti_range'] = pd.cut(lds['dti'], bins, labels=bucket_l)"
   ]
  },
  {
   "cell_type": "markdown",
   "id": "liked-evening",
   "metadata": {},
   "source": [
    "Derived columns are \"loan_amnt_range\",\"annual_inc_range\",\"int_rate_range\",\"dti_range\""
   ]
  },
  {
   "cell_type": "code",
   "execution_count": null,
   "id": "hearing-cattle",
   "metadata": {},
   "outputs": [],
   "source": [
    "lds"
   ]
  },
  {
   "cell_type": "markdown",
   "id": "patent-farming",
   "metadata": {},
   "source": [
    "## Data Analysis Visualisation"
   ]
  },
  {
   "cell_type": "code",
   "execution_count": null,
   "id": "golden-contamination",
   "metadata": {},
   "outputs": [],
   "source": [
    "!pip install --upgrade pip\n",
    "!pip install seaborn"
   ]
  },
  {
   "cell_type": "code",
   "execution_count": null,
   "id": "affecting-receipt",
   "metadata": {},
   "outputs": [],
   "source": [
    "import matplotlib.pyplot as plt\n",
    "import seaborn as sns\n",
    "%matplotlib inline\n",
    "sns.set(style=\"whitegrid\")\n",
    "plt.style.use('ggplot')\n",
    "plt.rcParams['figure.figsize'] = (12, 8)\n",
    "plt.figure(figsize=(14,5))\n",
    "sns.countplot(y=\"loan_status\", data=lds)\n",
    "plt.show()"
   ]
  },
  {
   "cell_type": "markdown",
   "id": "invalid-ridge",
   "metadata": {},
   "source": [
    "### Univariate Analysis\n",
    "\n"
   ]
  },
  {
   "cell_type": "code",
   "execution_count": null,
   "id": "boxed-albany",
   "metadata": {},
   "outputs": [],
   "source": [
    "# function for plotting the count plot features wrt default ratio\n",
    "def plotUnivariateRatioBar(feature, data=lds, figsize=(10,5), rsorted=True):\n",
    "    plt.figure(figsize=figsize)\n",
    "    if rsorted:\n",
    "        feature_dimension = sorted(data[feature].unique())\n",
    "    else:\n",
    "        feature_dimension = data[feature].unique()\n",
    "    feature_values = []\n",
    "    for fd in feature_dimension:\n",
    "        feature_filter = data[data[feature]==fd]\n",
    "        feature_count = len(feature_filter[feature_filter[\"loan_status\"]==1])\n",
    "        feature_values.append(feature_count*100/feature_filter[\"loan_status\"].count())\n",
    "    plt.bar(feature_dimension, feature_values, color='orange', edgecolor='white')\n",
    "    plt.title(\"Loan Defaults wrt \"+str(feature)+\" feature - countplot\")\n",
    "    plt.xlabel(feature, fontsize=16)\n",
    "    plt.ylabel(\"defaulter %\", fontsize=16)\n",
    "    plt.show()\n",
    "# function to plot univariate with default status scale 0 - 1\n",
    "def plotUnivariateBar(x, figsize=(10,5)):\n",
    "    plt.figure(figsize=figsize)\n",
    "    sns.barplot(x=x, y='loan_status', data=lds)\n",
    "    plt.title(\"Loan Defaults wrt \"+str(x)+\" feature - countplot\")\n",
    "    plt.xlabel(x, fontsize=16)\n",
    "    plt.ylabel(\"defaulter ratio\", fontsize=16)\n",
    "    plt.show()"
   ]
  },
  {
   "cell_type": "code",
   "execution_count": null,
   "id": "clear-measure",
   "metadata": {},
   "outputs": [],
   "source": [
    "# check for defaulters wrt term in the data using countplot\n",
    "plotUnivariateBar(\"term\", figsize=(8,5))"
   ]
  },
  {
   "cell_type": "code",
   "execution_count": null,
   "id": "activated-coating",
   "metadata": {},
   "outputs": [],
   "source": [
    "# check for defaulters wrt grade in the data using countplot\n",
    "plotUnivariateRatioBar(\"grade\")"
   ]
  },
  {
   "cell_type": "code",
   "execution_count": null,
   "id": "behavioral-adams",
   "metadata": {},
   "outputs": [],
   "source": [
    "# check for defaulters wrt sub_grade in the data using countplot\n",
    "plotUnivariateBar(\"sub_grade\", figsize=(16,5))"
   ]
  },
  {
   "cell_type": "code",
   "execution_count": null,
   "id": "gross-virtue",
   "metadata": {},
   "outputs": [],
   "source": [
    "# check for defaulters wrt home_ownership in the data \n",
    "plotUnivariateRatioBar(\"home_ownership\")"
   ]
  },
  {
   "cell_type": "code",
   "execution_count": null,
   "id": "listed-verse",
   "metadata": {},
   "outputs": [],
   "source": [
    "# check for defaulters wrt verification_status in the data\n",
    "plotUnivariateRatioBar(\"verification_status\")"
   ]
  },
  {
   "cell_type": "code",
   "execution_count": null,
   "id": "comparable-progress",
   "metadata": {},
   "outputs": [],
   "source": [
    "# check for defaulters wrt purpose in the data using countplot\n",
    "plotUnivariateBar(\"purpose\", figsize=(16,6))"
   ]
  },
  {
   "cell_type": "code",
   "execution_count": null,
   "id": "featured-century",
   "metadata": {},
   "outputs": [],
   "source": [
    "# check for defaulters wrt open_acc in the data using countplot\n",
    "plotUnivariateRatioBar(\"open_acc\", figsize=(16,6))"
   ]
  },
  {
   "cell_type": "code",
   "execution_count": null,
   "id": "regional-london",
   "metadata": {},
   "outputs": [],
   "source": [
    "# check for defaulters wrt pub_rec in the data using countplot\n",
    "plotUnivariateRatioBar(\"pub_rec\")"
   ]
  },
  {
   "cell_type": "markdown",
   "id": "mediterranean-andorra",
   "metadata": {},
   "source": [
    "#### Working on Continuous column variables"
   ]
  },
  {
   "cell_type": "code",
   "execution_count": null,
   "id": "paperback-employee",
   "metadata": {},
   "outputs": [],
   "source": [
    "# check for defaulters wrt emp_length in the data using countplot\n",
    "plotUnivariateBar(\"emp_length\", figsize=(14,6))"
   ]
  },
  {
   "cell_type": "code",
   "execution_count": null,
   "id": "forced-traffic",
   "metadata": {},
   "outputs": [],
   "source": [
    "# check for defaulters wrt month in the data using countplot\n",
    "plotUnivariateBar(\"month\", figsize=(14,6))"
   ]
  },
  {
   "cell_type": "code",
   "execution_count": null,
   "id": "proprietary-fleet",
   "metadata": {},
   "outputs": [],
   "source": [
    "# check for defaulters wrt year in the data using countplot\n",
    "plotUnivariateBar(\"year\")"
   ]
  },
  {
   "cell_type": "code",
   "execution_count": null,
   "id": "available-validity",
   "metadata": {},
   "outputs": [],
   "source": [
    "# check for defaulters wrt earliest_cr_line in the data\n",
    "plotUnivariateBar(\"earliest_cr_line\", figsize=(16,10))"
   ]
  },
  {
   "cell_type": "code",
   "execution_count": null,
   "id": "hearing-productivity",
   "metadata": {},
   "outputs": [],
   "source": [
    "# check for defaulters wrt inq_last_6mths in the data\n",
    "plotUnivariateBar(\"inq_last_6mths\")"
   ]
  },
  {
   "cell_type": "code",
   "execution_count": null,
   "id": "guided-aircraft",
   "metadata": {},
   "outputs": [],
   "source": [
    "# check for defaulters wrt revol_util in the data using countplot\n",
    "plotUnivariateRatioBar(\"revol_util\", figsize=(16,6))"
   ]
  },
  {
   "cell_type": "code",
   "execution_count": null,
   "id": "developmental-classic",
   "metadata": {},
   "outputs": [],
   "source": [
    "# check for defaulters wrt total_acc in the data using countplot\n",
    "plotUnivariateRatioBar(\"total_acc\", figsize=(14,6))"
   ]
  },
  {
   "cell_type": "code",
   "execution_count": null,
   "id": "subtle-president",
   "metadata": {},
   "outputs": [],
   "source": [
    "# check for defaulters wrt loan_amnt_range in the data using countplot\n",
    "plotUnivariateBar(\"loan_amnt_range\")"
   ]
  },
  {
   "cell_type": "code",
   "execution_count": null,
   "id": "phantom-cooperation",
   "metadata": {},
   "outputs": [],
   "source": [
    "# check for defaulters wrt int_rate_range in the data\n",
    "plotUnivariateBar(\"int_rate_range\")"
   ]
  },
  {
   "cell_type": "code",
   "execution_count": null,
   "id": "amateur-elements",
   "metadata": {},
   "outputs": [],
   "source": [
    "# check for defaulters wrt annual_inc_range in the data\n",
    "plotUnivariateBar(\"annual_inc_range\")"
   ]
  },
  {
   "cell_type": "code",
   "execution_count": null,
   "id": "published-impression",
   "metadata": {},
   "outputs": [],
   "source": [
    "# check for defaulters wrt dti_range in the data using countplot\n",
    "plotUnivariateBar(\"dti_range\", figsize=(16,5))"
   ]
  },
  {
   "cell_type": "code",
   "execution_count": null,
   "id": "saving-trouble",
   "metadata": {},
   "outputs": [],
   "source": [
    "# check for defaulters wrt installment range in the data\n",
    "plotUnivariateBar(\"installment\", figsize=(8,5))"
   ]
  },
  {
   "cell_type": "markdown",
   "id": "cultural-housing",
   "metadata": {},
   "source": [
    "### Bivariate Analysis"
   ]
  },
  {
   "cell_type": "code",
   "execution_count": null,
   "id": "controversial-sunset",
   "metadata": {},
   "outputs": [],
   "source": [
    "# function to plot scatter plot for two features\n",
    "def plotScatter(x, y):\n",
    "    plt.figure(figsize=(16,6))\n",
    "    sns.scatterplot(x=x, y=y, hue=\"loan_status\", data=loan)\n",
    "    plt.title(\"Scatter plot between \"+x+\" and \"+y)\n",
    "    plt.xlabel(x, fontsize=16)\n",
    "    plt.ylabel(y, fontsize=16)\n",
    "    plt.show()\n",
    "    \n",
    "def plotBivariateBar(x, hue, figsize=(16,6)):\n",
    "    plt.figure(figsize=figsize)\n",
    "    sns.barplot(x=x, y='loan_status', hue=hue, data=loan)\n",
    "    plt.title(\"Loan Default ratio wrt \"+x+\" feature for hue \"+hue+\" in the data using countplot\")\n",
    "    plt.xlabel(x, fontsize=16)\n",
    "    plt.ylabel(\"defaulter ratio\", fontsize=16)\n",
    "    plt.show()"
   ]
  },
  {
   "cell_type": "code",
   "execution_count": null,
   "id": "handmade-acceptance",
   "metadata": {},
   "outputs": [],
   "source": [
    "# check for defaulters wrt annual_inc and purpose in the data using countplot\n",
    "plotBivariateBar(\"annual_inc_range\", \"purpose\")"
   ]
  },
  {
   "cell_type": "code",
   "execution_count": null,
   "id": "broad-notebook",
   "metadata": {},
   "outputs": [],
   "source": [
    "# check for defaulters wrt term and purpose in the data \n",
    "plotBivariateBar(\"term\", \"purpose\")"
   ]
  },
  {
   "cell_type": "code",
   "execution_count": null,
   "id": "rising-decline",
   "metadata": {},
   "outputs": [],
   "source": [
    "# check for defaulters wrt grade and purpose in the data \n",
    "plotBivariateBar(\"grade\", \"purpose\")"
   ]
  },
  {
   "cell_type": "code",
   "execution_count": null,
   "id": "painted-grammar",
   "metadata": {},
   "outputs": [],
   "source": [
    "# check for defaulters wrt loan_amnt_range and purpose in the data\n",
    "plotBivariateBar(\"loan_amnt_range\", \"purpose\")"
   ]
  },
  {
   "cell_type": "code",
   "execution_count": null,
   "id": "abandoned-integral",
   "metadata": {},
   "outputs": [],
   "source": [
    "# check for defaulters wrt loan_amnt_range and term in the data\n",
    "plotBivariateBar(\"loan_amnt_range\", \"term\")"
   ]
  },
  {
   "cell_type": "code",
   "execution_count": null,
   "id": "recent-effect",
   "metadata": {},
   "outputs": [],
   "source": [
    "# check for defaulters wrt annual_inc_range and purpose in the data\n",
    "plotBivariateBar(\"annual_inc_range\", \"purpose\")"
   ]
  },
  {
   "cell_type": "code",
   "execution_count": null,
   "id": "effective-guard",
   "metadata": {},
   "outputs": [],
   "source": [
    "# check for defaulters wrt annual_inc_range and purpose in the data\n",
    "plotBivariateBar(\"installment\", \"purpose\")"
   ]
  },
  {
   "cell_type": "code",
   "execution_count": null,
   "id": "arbitrary-voltage",
   "metadata": {},
   "outputs": [],
   "source": [
    "# check for defaulters wrt loan_amnt_range in the data\n",
    "plotScatter(\"int_rate\", \"annual_inc\")"
   ]
  },
  {
   "cell_type": "code",
   "execution_count": null,
   "id": "searching-honor",
   "metadata": {},
   "outputs": [],
   "source": [
    "# plot scatter for funded_amnt_inv with dti\n",
    "plotScatter(\"funded_amnt_inv\", \"dti\")"
   ]
  },
  {
   "cell_type": "code",
   "execution_count": null,
   "id": "fifth-czech",
   "metadata": {},
   "outputs": [],
   "source": [
    "# plot scatter for funded_amnt_inv with annual_inc\n",
    "plotScatter(\"annual_inc\", \"funded_amnt_inv\")"
   ]
  },
  {
   "cell_type": "code",
   "execution_count": null,
   "id": "covered-colony",
   "metadata": {},
   "outputs": [],
   "source": [
    "# plot scatter for loan_amnt with int_rate\n",
    "plotScatter(\"loan_amnt\", \"int_rate\")"
   ]
  },
  {
   "cell_type": "code",
   "execution_count": null,
   "id": "acceptable-arrest",
   "metadata": {},
   "outputs": [],
   "source": [
    "# plot scatter for int_rate with annual_inc\n",
    "plotScatter(\"int_rate\", \"annual_inc\")"
   ]
  },
  {
   "cell_type": "code",
   "execution_count": null,
   "id": "concerned-breach",
   "metadata": {},
   "outputs": [],
   "source": [
    "# plot scatter for earliest_cr_line with int_rate\n",
    "plotScatter(\"earliest_cr_line\", \"int_rate\")"
   ]
  },
  {
   "cell_type": "code",
   "execution_count": null,
   "id": "minute-nancy",
   "metadata": {},
   "outputs": [],
   "source": [
    "# plot scatter for annual_inc with emp_length\n",
    "plotScatter(\"annual_inc\", \"emp_length\")"
   ]
  },
  {
   "cell_type": "code",
   "execution_count": null,
   "id": "military-alignment",
   "metadata": {},
   "outputs": [],
   "source": [
    "# plot scatter for earliest_cr_line with dti\n",
    "plotScatter(\"earliest_cr_line\", \"dti\")"
   ]
  },
  {
   "cell_type": "code",
   "execution_count": null,
   "id": "delayed-marker",
   "metadata": {},
   "outputs": [],
   "source": [
    "# function to plot boxplot for comparing two features\n",
    "def plotBox(x, y, hue=\"loan_status\"):\n",
    "    plt.figure(figsize=(16,6))\n",
    "    sns.boxplot(x=x, y=y, data=loan, hue=hue, order=sorted(loan[x].unique()))\n",
    "    plt.title(\"Box plot between \"+x+\" and \"+y+\" for each \"+hue)\n",
    "    plt.xlabel(x, fontsize=16)\n",
    "    plt.ylabel(y, fontsize=16)\n",
    "    plt.show()\n",
    "    plt.figure(figsize=(16,8))\n",
    "    sns.violinplot(x=x, y=y, data=loan, hue=hue, order=sorted(loan[x].unique()))\n",
    "    plt.title(\"Violin plot between \"+x+\" and \"+y+\" for each \"+hue)\n",
    "    plt.xlabel(x, fontsize=16)\n",
    "    plt.ylabel(y, fontsize=16)\n",
    "    plt.show()\n",
    "# plot box for term vs int_rate for each loan_status\n",
    "plotBox(\"term\", \"int_rate\")"
   ]
  },
  {
   "cell_type": "code",
   "execution_count": null,
   "id": "fatty-reading",
   "metadata": {},
   "outputs": [],
   "source": [
    "# plot box for loan_status vs int_rate for each purpose\n",
    "plotBox(\"loan_status\", \"int_rate\", hue=\"purpose\")"
   ]
  },
  {
   "cell_type": "code",
   "execution_count": null,
   "id": "answering-foster",
   "metadata": {},
   "outputs": [],
   "source": [
    "# plot box for purpose vs revo_util for each status\n",
    "plotBox(\"purpose\", \"revol_util\")"
   ]
  },
  {
   "cell_type": "code",
   "execution_count": null,
   "id": "remarkable-edmonton",
   "metadata": {},
   "outputs": [],
   "source": [
    "# plot box for grade vs int_rate for each loan_status\n",
    "plotBox(\"grade\", \"int_rate\", \"loan_status\")"
   ]
  },
  {
   "cell_type": "code",
   "execution_count": null,
   "id": "thorough-artist",
   "metadata": {},
   "outputs": [],
   "source": [
    "# plot box for issue_d vs int_rate for each loan_status\n",
    "plotBox(\"month\", \"int_rate\", \"loan_status\")"
   ]
  },
  {
   "cell_type": "markdown",
   "id": "wireless-module",
   "metadata": {},
   "source": [
    "Therefore, following are the important feature we deduced from above Bivariate analysis:\n",
    "term, grade, purpose, pub_rec, revol_util, funded_amnt_inv, int_rate, annual_inc, installment"
   ]
  },
  {
   "cell_type": "markdown",
   "id": "buried-composer",
   "metadata": {},
   "source": [
    "### Multivariate Analysis (Correlation)"
   ]
  },
  {
   "cell_type": "code",
   "execution_count": null,
   "id": "norwegian-curtis",
   "metadata": {},
   "outputs": [],
   "source": [
    "# plot heat map to see correlation between features\n",
    "continuous_f = [\"funded_amnt_inv\", \"annual_inc\", \"term\", \"int_rate\", \"loan_status\", \"revol_util\", \"pub_rec\", \"earliest_cr_line\"]\n",
    "loan_corr = loan[continuous_f].corr()\n",
    "sns.heatmap(loan_corr,vmin=-1.0,vmax=1.0,annot=True, cmap=\"YlGnBu\")\n",
    "plt.title(\"Correlation Heatmap\")\n",
    "plt.show()"
   ]
  },
  {
   "cell_type": "markdown",
   "id": "together-swiss",
   "metadata": {},
   "source": [
    "#### Hence, important related feature from above Multivariate analysis are:\n",
    "term, grade, purpose, revol_util, int_rate, installment, annual_inc, funded_amnt_inv"
   ]
  },
  {
   "cell_type": "markdown",
   "id": "determined-dayton",
   "metadata": {},
   "source": [
    "### Final Findings\n",
    "After analysing all the related features available in the dataset, we have come to an end, deducing the main driving features for the Lending Club Loan Default analysis:\n",
    "#### The best driving features for the Loan default analysis are: term, grade, purpose, revol_util, int_rate, installment, annual_inc, funded_amnt_inv"
   ]
  },
  {
   "cell_type": "code",
   "execution_count": null,
   "id": "interstate-cause",
   "metadata": {},
   "outputs": [],
   "source": []
  },
  {
   "cell_type": "code",
   "execution_count": null,
   "id": "automated-bulletin",
   "metadata": {},
   "outputs": [],
   "source": []
  },
  {
   "attachments": {
    "box%20plot.png": {
     "image/png": "[encoded data removed]"
    }
   },
   "cell_type": "markdown",
   "id": "toxic-blair",
   "metadata": {},
   "source": [
    "#### Findings through EXCEL and Python (which Mr.Anand sir taught):\n",
    "\n",
    "##### Driver Variables (i.e. variables which are strong indicators of default) using Python\n",
    "\n",
    "###### Dti\n",
    "\n",
    "import pandas as pd\n",
    "data=pd.read_csv(r'F:\\UPGRAD\\loan\\loan\\loan.csv')\n",
    "dti=pd.DataFrame(data, columns= ['dti'])\n",
    "dti['dti']\n",
    "print(dti.mean())\n",
    "print(dti.describe())\n",
    "\n",
    "dti\n",
    "count  39717.000000\n",
    "mean      13.315130\n",
    "std        6.678594\n",
    "min        0.000000\n",
    "25%        8.170000\n",
    "50%       13.400000\n",
    "75%       18.600000\n",
    "max       29.990000\n",
    "\n",
    "##### Removing Outliers from the dti (Debit to Income) Column to improve the accuracy\n",
    "Q1 = dti['dti'].quantile(0.95)\n",
    "Q3 = dti['dti'].quantile(1)\n",
    "IQR = Q3 - Q1\n",
    "df = dti[~((dti['dti'] < (Q3 - Q1)) |(dti['dti'] > (Q3 + 1.5 * IQR)))]\n",
    "\n",
    "dti    15.344617\n",
    "Mean value is improved\n",
    "\n",
    "##### Quantitative Variable Univariate Analysis through summary metrics with EXCEL:\n",
    "•\tDti - Debit to Income ratio is useful in univariate analysis\n",
    "\n",
    "BOX plot is useful in spread of the data\n",
    " ![box%20plot.png](attachment:box%20plot.png)\n",
    "\n",
    "Above median value 13.4 dti value may be DEFAULTERS\n",
    "\n",
    "•\tloan_status Vs annual_inc through EXCEL\n",
    "\n",
    "\n",
    "loan_status\t  Average of annual_inc\n",
    "\n",
    "Charged Off\t  62427.29803\n",
    "Current\t      75430.66511\n",
    "Fully Paid\t  69862.50333\n",
    "Grand Total\t  68968.92638\n",
    "\n",
    "If the annual income is less for the borrower then he is likely to become a DEFAULTER\n",
    "\n",
    "loan_status\t  Average of total_pymnt\n",
    "\n",
    "Charged Off\t  6838.030941\n",
    "Current\t      21852.87556\n",
    "Fully Paid\t  12725.78196\n",
    "Grand Total\t  12153.59654\n",
    "\n",
    "If the total_pymnt is less for the borrower then he is likely to become a DEFAULTER\n",
    "\n",
    "##### Bivariate Analysis on Continuous Variables\n",
    "\n",
    "import pandas as pd\n",
    "data=pd.read_csv(r'F:\\UPGRAD\\loan\\loan\\loan.csv')\n",
    "curr2=pd.DataFrame(data, columns= ['loan_amnt', 'funded_amnt', 'funded_amnt_inv', 'installment', 'total_pymnt', 'total_pymnt_inv', 'total_rec_prncp'])\n",
    "curr2\n",
    "curr2.corr()\n",
    "\n",
    "import matplotlib.pyplot as plt\n",
    "plt.matshow(curr2.corr())\n",
    "plt.show()\n",
    "![plot1.png](attachment:plot1.png)\n",
    "\n",
    "\n",
    "INFERENCE\n",
    "'loan_amnt' is correlated to  'funded_amnt', \n",
    "'loan_amnt' and to  'funded_amnt‘ is correlated ''installment', \n",
    "'total_pymnt', \n",
    "'funded_amnt_inv' is correlated to 'total_pymnt_inv',\n",
    "total_pymnt and total_pymnt_inv' is correlated to 'total_rec_prncp\n"
   ]
  },
  {
   "cell_type": "code",
   "execution_count": null,
   "id": "younger-northeast",
   "metadata": {},
   "outputs": [],
   "source": []
  },
  {
   "cell_type": "markdown",
   "id": "annual-canal",
   "metadata": {},
   "source": [
    "# this my rough work...."
   ]
  },
  {
   "cell_type": "code",
   "execution_count": null,
   "id": "artificial-people",
   "metadata": {
    "scrolled": true
   },
   "outputs": [],
   "source": [
    "import pandas as pd\n",
    "data=pd.read_csv(r'F:\\UPGRAD\\loan\\loan\\loan.csv')\n",
    "share=pd.DataFrame(data, columns= ['dti'])\n",
    "share['dti']\n"
   ]
  },
  {
   "cell_type": "code",
   "execution_count": null,
   "id": "effective-footwear",
   "metadata": {},
   "outputs": [],
   "source": [
    "import pandas as pd\n",
    "data=pd.read_csv(r'F:\\UPGRAD\\loan\\loan\\loan.csv')\n",
    "dti=pd.DataFrame(data, columns= ['dti'])\n",
    "dti['dti']\n",
    "print(dti.mean())\n",
    "print(dti.describe())"
   ]
  },
  {
   "cell_type": "code",
   "execution_count": null,
   "id": "considered-cover",
   "metadata": {},
   "outputs": [],
   "source": [
    "Q1 = dti['dti'].quantile(0.95)\n",
    "Q3 = dti['dti'].quantile(1)\n",
    "IQR = Q3 - Q1\n",
    "\n",
    "df = dti[~((dti['dti'] < (Q3 - Q1)) |(dti['dti'] > (Q3 + 1.5 * IQR)))]"
   ]
  },
  {
   "cell_type": "code",
   "execution_count": null,
   "id": "planned-combine",
   "metadata": {},
   "outputs": [],
   "source": [
    "print(df)\n",
    "df.mean()"
   ]
  },
  {
   "cell_type": "code",
   "execution_count": null,
   "id": "permanent-china",
   "metadata": {},
   "outputs": [],
   "source": [
    "import numpy\n",
    "\n",
    "arr = dti['dti']\n",
    "\n",
    "elements = numpy.array(arr)\n",
    "\n",
    "mean = numpy.mean(elements, axis=0)\n",
    "sd = numpy.std(elements, axis=0)\n",
    "\n",
    "final_list = [x for x in arr if (x > mean - 2 * sd)]\n",
    "final_list = [x for x in final_list if (x < mean + 2 * sd)]\n",
    "mn=numpy.mean(final_list, axis=0)\n",
    "print(mn)\n",
    "print(final_list)"
   ]
  },
  {
   "cell_type": "code",
   "execution_count": null,
   "id": "corresponding-passport",
   "metadata": {},
   "outputs": [],
   "source": [
    "import pandas as pd\n",
    "cenus=pd.read_csv(r'F:\\UPGRAD\\loan\\loan\\loan.csv')\n",
    "cenus.describe()"
   ]
  },
  {
   "cell_type": "code",
   "execution_count": null,
   "id": "virtual-isolation",
   "metadata": {},
   "outputs": [],
   "source": [
    "import pandas as pd\n",
    "data=pd.read_csv(r'F:\\UPGRAD\\loan\\loan\\loan.csv')\n",
    "curr=pd.DataFrame(data, columns= ['loan_amnt','annual_inc','total_rec_prncp'])\n",
    "curr\n"
   ]
  },
  {
   "cell_type": "code",
   "execution_count": null,
   "id": "normal-algebra",
   "metadata": {},
   "outputs": [],
   "source": [
    "curr.corr()"
   ]
  },
  {
   "cell_type": "code",
   "execution_count": null,
   "id": "exceptional-louis",
   "metadata": {},
   "outputs": [],
   "source": [
    "import matplotlib.pyplot as plt\n",
    "plt.matshow(curr.corr())\n",
    "plt.show()"
   ]
  },
  {
   "cell_type": "code",
   "execution_count": null,
   "id": "universal-viewer",
   "metadata": {},
   "outputs": [],
   "source": [
    "import pandas as pd\n",
    "cust_rating = pd.read_csv('https://media-doselect.s3.amazonaws.com/generic/GvOkzy5MLdy9zJ8vXMArwpRvN/rating_final.csv')\n",
    "cust_rating=pd.DataFrame(cust_rating, columns= ['userID','placeID','rating','food_rating','service_rating','avg_rating'])\n",
    "cust_rating['avg_rating'] = round(cust_rating[['rating','food_rating','service_rating']].mean(axis=1))\n",
    "\n",
    "print(cust_rating.head(10))"
   ]
  },
  {
   "cell_type": "code",
   "execution_count": null,
   "id": "fourth-serum",
   "metadata": {},
   "outputs": [],
   "source": [
    "import pandas as pd\n",
    "data=pd.read_csv(r'F:\\UPGRAD\\loan\\loan\\loan.csv')\n",
    "curr1=pd.DataFrame(data, columns= ['int_rate','dti'])\n",
    "curr1"
   ]
  },
  {
   "cell_type": "code",
   "execution_count": null,
   "id": "appropriate-sampling",
   "metadata": {},
   "outputs": [],
   "source": [
    "curr1.corr()"
   ]
  },
  {
   "cell_type": "code",
   "execution_count": null,
   "id": "linear-container",
   "metadata": {},
   "outputs": [],
   "source": [
    "import matplotlib.pyplot as plt\n",
    "plt.matshow(curr1.corr())\n",
    "plt.show()"
   ]
  },
  {
   "cell_type": "code",
   "execution_count": null,
   "id": "dense-brook",
   "metadata": {},
   "outputs": [],
   "source": [
    "import pandas as pd\n",
    "data=pd.read_csv(r'F:\\UPGRAD\\loan\\loan\\loan.csv')\n",
    "curr2=pd.DataFrame(data, columns= ['loan_amnt', 'funded_amnt', 'funded_amnt_inv', 'installment', 'total_pymnt', 'total_pymnt_inv', 'total_rec_prncp'])\n",
    "curr2\n"
   ]
  },
  {
   "cell_type": "code",
   "execution_count": null,
   "id": "enclosed-valley",
   "metadata": {},
   "outputs": [],
   "source": [
    "curr2.corr()"
   ]
  },
  {
   "cell_type": "code",
   "execution_count": null,
   "id": "generic-pottery",
   "metadata": {},
   "outputs": [],
   "source": []
  },
  {
   "cell_type": "code",
   "execution_count": null,
   "id": "upset-going",
   "metadata": {},
   "outputs": [],
   "source": [
    "import matplotlib.pyplot as plt\n",
    "plt.matshow(curr2.corr())\n",
    "plt.show()"
   ]
  }
 ],
 "metadata": {
  "kernelspec": {
   "display_name": "Python 3",
   "language": "python",
   "name": "python3"
  },
  "language_info": {
   "codemirror_mode": {
    "name": "ipython",
    "version": 3
   },
   "file_extension": ".py",
   "mimetype": "text/x-python",
   "name": "python",
   "nbconvert_exporter": "python",
   "pygments_lexer": "ipython3",
   "version": "3.9.2"
  }
 },
 "nbformat": 4,
 "nbformat_minor": 5
}
